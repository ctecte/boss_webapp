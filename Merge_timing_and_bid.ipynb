{
 "cells": [
  {
   "cell_type": "code",
   "execution_count": 1,
   "id": "6470623d-5f48-411f-80cc-fc9eb0184053",
   "metadata": {},
   "outputs": [],
   "source": [
    "import pandas as pd"
   ]
  },
  {
   "cell_type": "code",
   "execution_count": 11,
   "id": "e11f3207-7a8e-42fa-8dd8-63685b3d3230",
   "metadata": {},
   "outputs": [
    {
     "name": "stdout",
     "output_type": "stream",
     "text": [
      "2024-25_T1\n",
      "successful\n",
      "2024-25_T2\n",
      "successful\n"
     ]
    }
   ],
   "source": [
    "# files = ['2021-22_T2','2022-23_T1','2022-23_T2','2023-24_T1','2023-24_T2','2024-25_T1','2024-25_T2']\n",
    "\n",
    "files = ['2024-25_T1', '2024-25_T2']\n",
    "columns_to_drop = ['term', 'course_code','title','topic','section','instructor','num_instructors','start_date', 'end_date','class_number']\n",
    "\n",
    "for file in files:\n",
    "    print(file)\n",
    "    boss_df = pd.read_excel(f\"{file}.xlsx\")\n",
    "    timing_df = pd.read_excel(f\"{file}_timing.xlsx\")\n",
    "    merged_df_raw = boss_df.merge(timing_df, left_on=['Course Code', 'Section'], right_on=['course_code', 'section'])\n",
    "    merged_df_filtered = merged_df_raw.drop(columns_to_drop, axis=1)\n",
    "    merged_df_raw.to_excel(f'{file}_merged_raw.xlsx', index=False)\n",
    "    merged_df_filtered.to_excel(f'{file}_merged_filtered.xlsx', index=False)\n",
    "    print(\"successful\")"
   ]
  }
 ],
 "metadata": {
  "kernelspec": {
   "display_name": "Python 3 (ipykernel)",
   "language": "python",
   "name": "python3"
  },
  "language_info": {
   "codemirror_mode": {
    "name": "ipython",
    "version": 3
   },
   "file_extension": ".py",
   "mimetype": "text/x-python",
   "name": "python",
   "nbconvert_exporter": "python",
   "pygments_lexer": "ipython3",
   "version": "3.13.2"
  }
 },
 "nbformat": 4,
 "nbformat_minor": 5
}
